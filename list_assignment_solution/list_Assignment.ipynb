{
 "cells": [
  {
   "cell_type": "markdown",
   "metadata": {},
   "source": [
    "# Module 3: Data Structures Assignments\n",
    "## Lesson 3.1: Lists\n",
    "### Assignment 1: Creating and Accessing Lists\n",
    "\n",
    "Create a list of the first 20 positive integers. Print the list.\n",
    "\n",
    "### Assignment 2: Accessing List Elements\n",
    "\n",
    "Print the first, middle, and last elements of the list created in Assignment 1.\n",
    "\n",
    "### Assignment 3: List Slicing\n",
    "\n",
    "Print the first five elements, the last five elements, and the elements from index 5 to 15 of the list created in Assignment 1.\n",
    "\n",
    "### Assignment 4: List Comprehensions\n",
    "\n",
    "Create a new list containing the squares of the first 10 positive integers using a list comprehension. Print the new list.\n",
    "\n",
    "### Assignment 5: Filtering Lists\n",
    "\n",
    "Create a new list containing only the even numbers from the list created in Assignment 1 using a list comprehension. Print the new list.\n",
    "\n",
    "### Assignment 6: List Methods\n",
    "\n",
    "Create a list of random numbers and sort it in ascending and descending order. Remove the duplicates from the list and print the modified list.\n",
    "\n",
    "### Assignment 7: Nested Lists\n",
    "\n",
    "Create a nested list representing a 3x3 matrix and print the matrix. Access and print the element at the second row and third column.\n",
    "\n",
    "### Assignment 8: List of Dictionaries\n",
    "\n",
    "Create a list of dictionaries where each dictionary represents a student with keys 'name' and 'score'. Sort the list of dictionaries by the 'score' in descending order and print the sorted list.\n",
    "\n",
    "### Assignment 9: Matrix Transposition\n",
    "\n",
    "Write a function that takes a 3x3 matrix (nested list) as input and returns its transpose. Print the original and transposed matrices.\n",
    "\n",
    "### Assignment 10: Flattening a Nested List\n",
    "\n",
    "Write a function that takes a nested list and flattens it into a single list. Print the original and flattened lists.\n",
    "\n",
    "### Assignment 11: List Manipulation\n",
    "\n",
    "Create a list of the first 10 positive integers. Remove the elements at indices 2, 4, and 6, and insert the element '99' at index 5. Print the modified list.\n",
    "\n",
    "### Assignment 12: List Zipping\n",
    "\n",
    "Create two lists of the same length. Use the `zip` function to combine these lists into a list of tuples and print the result.\n",
    "\n",
    "### Assignment 13: List Reversal\n",
    "\n",
    "Write a function that takes a list and returns a new list with the elements in reverse order. Print the original and reversed lists.\n",
    "\n",
    "### Assignment 14: List Rotation\n",
    "\n",
    "Write a function that rotates a list by n positions. Print the original and rotated lists.\n",
    "\n",
    "### Assignment 15: List Intersection\n",
    "\n",
    "Write a function that takes two lists and returns a new list containing only the elements that are present in both lists. Print the intersected list."
   ]
  },
  {
   "cell_type": "markdown",
   "id": "1ee2c1a2",
   "metadata": {},
   "source": [
    "\n",
    "Create a list of the first 20 positive integers. Print the list.\n"
   ]
  },
  {
   "cell_type": "code",
   "execution_count": 1,
   "metadata": {},
   "outputs": [
    {
     "name": "stdout",
     "output_type": "stream",
     "text": [
      "[0, 1, 2, 3, 4, 5, 6, 7, 8, 9, 10, 11, 12, 13, 14, 15, 16, 17, 18, 19, 20]\n"
     ]
    }
   ],
   "source": [
    "list01 = list(range(0,21))\n",
    "print(list01)"
   ]
  },
  {
   "cell_type": "markdown",
   "id": "9fb2f7d4",
   "metadata": {},
   "source": [
    "Print the first, middle, and last elements of the list created in Assignment 1."
   ]
  },
  {
   "cell_type": "code",
   "execution_count": 3,
   "id": "24a82d0b",
   "metadata": {},
   "outputs": [
    {
     "name": "stdout",
     "output_type": "stream",
     "text": [
      "0\n",
      "9\n",
      "19\n"
     ]
    }
   ],
   "source": [
    "print(list01[0]) # First Element\n",
    "print(list01[9]) # Second Element\n",
    "print(list01[19]) # Third Element"
   ]
  },
  {
   "cell_type": "markdown",
   "id": "02e9a18d",
   "metadata": {},
   "source": [
    "Print the first five elements, the last five elements, and the elements from index 5 to 15 of the list created in Assignment 1."
   ]
  },
  {
   "cell_type": "code",
   "execution_count": 4,
   "id": "3568ba6f",
   "metadata": {},
   "outputs": [
    {
     "name": "stdout",
     "output_type": "stream",
     "text": [
      "[0, 1, 2, 3, 4]\n",
      "[16, 17, 18, 19, 20]\n",
      "[5, 6, 7, 8, 9, 10, 11, 12, 13, 14, 15]\n"
     ]
    }
   ],
   "source": [
    "print(list01[:5])\n",
    "print(list01[-5:])\n",
    "print(list01[5:16])"
   ]
  },
  {
   "cell_type": "markdown",
   "id": "945f6655",
   "metadata": {},
   "source": [
    "Create a new list containing the squares of the first 10 positive integers using a list comprehension. Print the new list."
   ]
  },
  {
   "cell_type": "code",
   "execution_count": 5,
   "id": "77e7344e",
   "metadata": {},
   "outputs": [
    {
     "name": "stdout",
     "output_type": "stream",
     "text": [
      "[0, 1, 2, 3, 4, 5, 6, 7, 8, 9]\n"
     ]
    }
   ],
   "source": [
    "new_list = [num for num in list01[:10]]\n",
    "print(new_list)"
   ]
  },
  {
   "cell_type": "markdown",
   "id": "7ddeb04d",
   "metadata": {},
   "source": [
    "Create a new list containing only the even numbers from the list created in Assignment 1 using a list comprehension. Print the new list."
   ]
  },
  {
   "cell_type": "code",
   "execution_count": 7,
   "id": "2d5a742a",
   "metadata": {},
   "outputs": [
    {
     "name": "stdout",
     "output_type": "stream",
     "text": [
      "[0, 2, 4, 6, 8, 10, 12, 14, 16, 18, 20]\n"
     ]
    }
   ],
   "source": [
    "new_list01 = [num for num in list01 if num%2 == 0]\n",
    "print(new_list01)"
   ]
  },
  {
   "cell_type": "markdown",
   "id": "3062b5f1",
   "metadata": {},
   "source": [
    "Create a list of random numbers and sort it in ascending and descending order. Remove the duplicates from the list and print the modified list."
   ]
  },
  {
   "cell_type": "code",
   "execution_count": 11,
   "id": "7fa0c9e5",
   "metadata": {},
   "outputs": [
    {
     "name": "stdout",
     "output_type": "stream",
     "text": [
      "[3, 20, 17, 10, 19, 15, 1, 12, 12, 10, 1, 12, 12, 13, 15]\n",
      "[1, 1, 3, 10, 10, 12, 12, 12, 12, 13, 15, 15, 17, 19, 20]\n",
      "[20, 19, 17, 15, 15, 13, 12, 12, 12, 12, 10, 10, 3, 1, 1]\n",
      "[1, 3, 10, 12, 13, 15, 17, 19, 20]\n"
     ]
    }
   ],
   "source": [
    "import random \n",
    "\n",
    "list01 = list(random.randint(1, 20) for x in range (0, 15))\n",
    "print(list01)\n",
    "\n",
    "ascending_sorted = sorted(list01)\n",
    "print(ascending_sorted)\n",
    "descending_sorted = sorted(list01, reverse= True)\n",
    "print(descending_sorted)\n",
    "unique_value = sorted(set(list01))\n",
    "print(unique_value)"
   ]
  },
  {
   "cell_type": "code",
   "execution_count": 14,
   "id": "53e571ae",
   "metadata": {},
   "outputs": [
    {
     "name": "stdout",
     "output_type": "stream",
     "text": [
      "Matrix:\n",
      "[1, 2, 3]\n",
      "[4, 5, 6]\n",
      "[7, 8, 9]\n",
      "Element at second row and third column: 6\n"
     ]
    }
   ],
   "source": [
    "nested_list = [\n",
    "    [1, 2, 3],\n",
    "    [4, 5, 6],\n",
    "    [7, 8, 9]\n",
    "]\n",
    "print(\"Matrix:\")\n",
    "for row in nested_list:\n",
    "    print(row)\n",
    "print(f\"Element at second row and third column: {nested_list[1][2]}\")"
   ]
  },
  {
   "cell_type": "markdown",
   "id": "fd35db69",
   "metadata": {},
   "source": [
    "Create a list of dictionaries where each dictionary represents a student with keys 'name' and 'score'. Sort the list of dictionaries by the 'score' in descending order and print the sorted list."
   ]
  },
  {
   "cell_type": "code",
   "execution_count": 15,
   "id": "fe0fc32f",
   "metadata": {},
   "outputs": [
    {
     "name": "stdout",
     "output_type": "stream",
     "text": [
      "{'name': 'Charlie', 'score': 95}\n",
      "{'name': 'Alice', 'score': 88}\n",
      "{'name': 'Eve', 'score': 78}\n",
      "{'name': 'Bob', 'score': 72}\n",
      "{'name': 'David', 'score': 65}\n",
      "{'name': 'Ashok', 'score': 20}\n"
     ]
    }
   ],
   "source": [
    "students = [ {'name': \"Ashok\", 'score' : 20},{'name': 'Alice', 'score': 88},\n",
    "    {'name': 'Bob', 'score': 72},\n",
    "    {'name': 'Charlie', 'score': 95},\n",
    "    {'name': 'David', 'score': 65},\n",
    "    {'name': 'Eve', 'score': 78} ]\n",
    "\n",
    "sorted_students = sorted(students, key= lambda x: x[\"score\"], reverse= True)\n",
    "for students in sorted_students:\n",
    "    print(students)"
   ]
  },
  {
   "cell_type": "markdown",
   "id": "f8c1b8c5",
   "metadata": {},
   "source": [
    "Write a function that takes a 3x3 matrix (nested list) as input and returns its transpose. Print the original and transposed matrices."
   ]
  },
  {
   "cell_type": "code",
   "execution_count": 19,
   "id": "541b4760",
   "metadata": {},
   "outputs": [
    {
     "name": "stdout",
     "output_type": "stream",
     "text": [
      "Original matrix:\n",
      "[1, 2, 3]\n",
      "[4, 5, 6]\n",
      "[7, 8, 9]\n",
      "Transposed matrix:\n",
      "[1, 4, 7]\n",
      "[2, 5, 8]\n",
      "[3, 6, 9]\n"
     ]
    }
   ],
   "source": [
    "def transpose(nested_list):\n",
    "    transpose_list = [[nested_list[j][i] for j in range(len(nested_list))] for i in range(len(nested_list[0]))]\n",
    "    return transpose_list\n",
    "\n",
    "matrix = [\n",
    "    [1, 2, 3],\n",
    "    [4, 5, 6],\n",
    "    [7, 8, 9]\n",
    "]\n",
    "transposed = transpose(matrix)\n",
    "print(\"Original matrix:\")\n",
    "for row in matrix:\n",
    "    print(row)\n",
    "print(\"Transposed matrix:\")\n",
    "for row in transposed:\n",
    "    print(row)\n",
    "    \n"
   ]
  },
  {
   "cell_type": "markdown",
   "id": "b6d8371c",
   "metadata": {},
   "source": [
    "Write a function that takes a nested list and flattens it into a single list. Print the original and flattened lists."
   ]
  },
  {
   "cell_type": "code",
   "execution_count": 23,
   "id": "5ddba7bc",
   "metadata": {},
   "outputs": [
    {
     "name": "stdout",
     "output_type": "stream",
     "text": [
      "Original matrix:\n",
      "[1, 2, 3]\n",
      "[4, 5, 6]\n",
      "[7, 8, 9]\n",
      "Flatten matrix:\n",
      "[1, 2, 3, 4, 5, 6, 7, 8, 9]\n"
     ]
    }
   ],
   "source": [
    "def flatten(nested_list):\n",
    "    return[nested_list[i][j] for i in range(len(nested_list)) for j in range(len(nested_list[0]))]\n",
    "\n",
    "matrix = [\n",
    "    [1, 2, 3],\n",
    "    [4, 5, 6],\n",
    "    [7, 8, 9]\n",
    "]\n",
    "flatten_matrix = flatten(matrix)\n",
    "print(\"Original matrix:\")\n",
    "for row in matrix:\n",
    "    print(row)\n",
    "print(\"Flatten matrix:\")\n",
    "print(flatten_matrix)\n"
   ]
  },
  {
   "cell_type": "markdown",
   "id": "9559b7b7",
   "metadata": {},
   "source": [
    "Create a list of the first 10 positive integers. Remove the elements at indices 2, 4, and 6, and insert the element '99' at index 5. Print the modified list."
   ]
  },
  {
   "cell_type": "code",
   "execution_count": 33,
   "id": "092d9025",
   "metadata": {},
   "outputs": [
    {
     "name": "stdout",
     "output_type": "stream",
     "text": [
      "[0, 1, 3, 5, 7, 99, 8, 9]\n"
     ]
    }
   ],
   "source": [
    "integers = [x for x in range(0,10)]\n",
    "\n",
    "\n",
    "integers.remove(2)\n",
    "integers.remove(4)\n",
    "integers.remove(6)\n",
    "integers.insert(5,99)\n",
    "\n",
    "print(integers)\n"
   ]
  },
  {
   "cell_type": "markdown",
   "id": "90fc2c50",
   "metadata": {},
   "source": [
    "Create two lists of the same length. Use the `zip` function to combine these lists into a list of tuples and print the result."
   ]
  },
  {
   "cell_type": "code",
   "execution_count": 35,
   "id": "438d7914",
   "metadata": {},
   "outputs": [
    {
     "name": "stdout",
     "output_type": "stream",
     "text": [
      "[12, 4, 15, 8, 8, 15, 14, 14, 2, 7, 11, 8, 8, 5, 6, 3, 8, 7, 5, 7]\n",
      "[18, 24, 20, 19, 19, 27, 15, 21, 15, 21, 29, 21, 16, 15, 18, 18, 24, 23, 20, 27]\n",
      "[(12, 18), (4, 24), (15, 20), (8, 19), (8, 19), (15, 27), (14, 15), (14, 21), (2, 15), (7, 21), (11, 29), (8, 21), (8, 16), (5, 15), (6, 18), (3, 18), (8, 24), (7, 23), (5, 20), (7, 27)]\n"
     ]
    }
   ],
   "source": [
    "list01 = (list(random.randint(1,15) for x in range(0, 20)))\n",
    "print(list01)\n",
    "list02 = (list(random.randint(15,30) for x in range(0, 20)))\n",
    "print(list02)\n",
    "\n",
    "def zip(list01, list02):\n",
    "    return [(list01[i],list02[i]) for i in range(len(list01))]\n",
    "\n",
    "print(zip(list01, list02))"
   ]
  },
  {
   "cell_type": "markdown",
   "id": "c0652c1f",
   "metadata": {},
   "source": [
    "Write a function that takes a list and returns a new list with the elements in reverse order. Print the original and reversed lists."
   ]
  },
  {
   "cell_type": "code",
   "execution_count": 37,
   "id": "0641aa28",
   "metadata": {},
   "outputs": [
    {
     "name": "stdout",
     "output_type": "stream",
     "text": [
      "[15, 14, 13, 12, 11, 10, 9, 8, 7, 4, 3, 1]\n"
     ]
    }
   ],
   "source": [
    "def reverse(list01):\n",
    "    return sorted(list01, reverse = True)\n",
    "\n",
    "print(reverse(list(set(random.randint(1, 15) for x in range(1, 20)))))"
   ]
  },
  {
   "cell_type": "markdown",
   "id": "ab6798f7",
   "metadata": {},
   "source": [
    "Write a function that rotates a list by n positions. Print the original and rotated lists."
   ]
  },
  {
   "cell_type": "code",
   "execution_count": 38,
   "id": "95fb4db7",
   "metadata": {},
   "outputs": [
    {
     "name": "stdout",
     "output_type": "stream",
     "text": [
      "Original list: [1, 2, 3, 4, 5]\n",
      "Rotated list: [3, 4, 5, 1, 2]\n"
     ]
    }
   ],
   "source": [
    "def rotate_list(lst, n):\n",
    "    return lst[n:] + lst[:n]\n",
    "\n",
    "original_list = [1, 2, 3, 4, 5]\n",
    "rotated_list = rotate_list(original_list, 2)\n",
    "print(f\"Original list: {original_list}\")\n",
    "print(f\"Rotated list: {rotated_list}\")"
   ]
  },
  {
   "cell_type": "markdown",
   "id": "854c2915",
   "metadata": {},
   "source": [
    "Write a function that takes two lists and returns a new list containing only the elements that are present in both lists. Print the intersected list."
   ]
  },
  {
   "cell_type": "code",
   "execution_count": 41,
   "id": "bee25ee5",
   "metadata": {},
   "outputs": [
    {
     "name": "stdout",
     "output_type": "stream",
     "text": [
      "[14, 6, 5, 11, 8, 12, 11, 9, 4, 15, 13, 4, 7, 12, 14, 15, 7, 7, 1, 12]\n",
      "[25, 25, 21, 15, 19, 17, 22, 16, 30, 23, 23, 16, 30, 15, 24, 22, 28, 18, 30, 29]\n",
      "[15, 15, 15, 15]\n"
     ]
    }
   ],
   "source": [
    "def common_element(list01, list02):\n",
    "    return [x for x in list01 for y in list02 if x == y]\n",
    "\n",
    "list01 = (list(random.randint(1,15) for x in range(0, 20)))\n",
    "print(list01)\n",
    "list02 = (list(random.randint(15,30) for x in range(0, 20)))\n",
    "print(list02)\n",
    "\n",
    "print(common_element(list01, list02))"
   ]
  }
 ],
 "metadata": {
  "kernelspec": {
   "display_name": "base",
   "language": "python",
   "name": "python3"
  },
  "language_info": {
   "codemirror_mode": {
    "name": "ipython",
    "version": 3
   },
   "file_extension": ".py",
   "mimetype": "text/x-python",
   "name": "python",
   "nbconvert_exporter": "python",
   "pygments_lexer": "ipython3",
   "version": "3.12.7"
  }
 },
 "nbformat": 4,
 "nbformat_minor": 5
}
